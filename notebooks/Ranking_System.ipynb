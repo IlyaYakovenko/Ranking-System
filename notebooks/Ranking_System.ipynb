{
  "nbformat": 4,
  "nbformat_minor": 0,
  "metadata": {
    "colab": {
      "provenance": []
    },
    "kernelspec": {
      "name": "python3",
      "display_name": "Python 3"
    },
    "language_info": {
      "name": "python"
    }
  },
  "cells": [
    {
      "cell_type": "markdown",
      "source": [
        "# Learning to Rank на основе LETOR MQ2008\n",
        "## Анализ данных, построение и оценка ранжирующей модели\n",
        "\n",
        "\n"
      ],
      "metadata": {
        "id": "u0-FF2NEJjfS"
      }
    },
    {
      "cell_type": "code",
      "execution_count": 32,
      "metadata": {
        "colab": {
          "base_uri": "https://localhost:8080/"
        },
        "id": "9NEZGHtfFZE7",
        "outputId": "dde1b06f-cae5-4ff7-9cfd-aca96b0a371b"
      },
      "outputs": [
        {
          "output_type": "stream",
          "name": "stdout",
          "text": [
            "Using Colab cache for faster access to the 'letor4' dataset.\n",
            "Path to dataset files: /kaggle/input/letor4\n"
          ]
        }
      ],
      "source": [
        "import kagglehub\n",
        "\n",
        "# Download latest version\n",
        "path = kagglehub.dataset_download(\"taoqin/letor4\")\n",
        "\n",
        "print(\"Path to dataset files:\", path)"
      ]
    },
    {
      "cell_type": "code",
      "source": [
        "import os\n",
        "import pandas as pd\n",
        "from lightgbm import LGBMModel, Dataset, train"
      ],
      "metadata": {
        "id": "TM57pfu-NXCb"
      },
      "execution_count": 48,
      "outputs": []
    },
    {
      "cell_type": "code",
      "source": [
        "fold_path = \"/kaggle/input/letor4/MQ2008/Fold1\"\n",
        "\n",
        "\n",
        "print(\"Проверка наличия файлов:\")\n",
        "print(\"train.txt:\", os.path.isfile(os.path.join(fold_path, \"train.txt\")))\n",
        "print(\"vali.txt:\", os.path.isfile(os.path.join(fold_path, \"vali.txt\")))\n",
        "print(\"test.txt:\", os.path.isfile(os.path.join(fold_path, \"test.txt\")))"
      ],
      "metadata": {
        "colab": {
          "base_uri": "https://localhost:8080/"
        },
        "id": "Y5jliaJ1Js18",
        "outputId": "985767f0-407f-486b-8d3f-1fa3021c8361"
      },
      "execution_count": 34,
      "outputs": [
        {
          "output_type": "stream",
          "name": "stdout",
          "text": [
            "Проверка наличия файлов:\n",
            "train.txt: True\n",
            "vali.txt: True\n",
            "test.txt: True\n"
          ]
        }
      ]
    },
    {
      "cell_type": "code",
      "source": [
        "def load_letor_data(file_path):\n",
        "    data = []\n",
        "    with open(file_path, 'r') as f:\n",
        "        for line in f:\n",
        "            line = line.strip()\n",
        "            if not line:\n",
        "                continue\n",
        "            parts = line.split('#')[0].split()\n",
        "            label = int(parts[0])\n",
        "            qid = int(parts[1].split(':')[1])\n",
        "            features = {f'feature_{i}': 0.0 for i in range(1, 47)}\n",
        "\n",
        "            for elem in parts[2:]:\n",
        "                if ':' in elem:\n",
        "                    fid, value = elem.split(':')\n",
        "                    fid = int(fid)\n",
        "                    if 1 <= fid <= 46:\n",
        "                        features[f'feature_{fid}'] = float(value)\n",
        "                    else:\n",
        "                      print(f\"Недопуститмый признак. elem: {elem}, fid: {fid}\" )\n",
        "\n",
        "            row = {'label': label, 'qid': qid}\n",
        "            row.update(features)\n",
        "            data.append(row)\n",
        "\n",
        "    df = pd.DataFrame(data)\n",
        "    return df"
      ],
      "metadata": {
        "id": "qqMcpJaENTf7"
      },
      "execution_count": 35,
      "outputs": []
    },
    {
      "cell_type": "code",
      "source": [
        "train_df = load_letor_data(os.path.join(fold_path, \"train.txt\"))\n",
        "print(f\"Тренировочный сет: {train_df.head(5)}\")\n",
        "print(f\"Размер: {train_df.shape}\")\n",
        "\n",
        "vali_df = load_letor_data(os.path.join(fold_path, \"vali.txt\"))\n",
        "print(f\"Валидационный сет: {vali_df.head(5)}\")\n",
        "print(f\"Размер: {vali_df.shape}\")\n",
        "\n",
        "test_df = load_letor_data(os.path.join(fold_path, \"test.txt\"))\n",
        "print(f\"Тестовый сет: {test_df.head(5)}\")\n",
        "print(f\"Размер: {test_df.shape}\")"
      ],
      "metadata": {
        "colab": {
          "base_uri": "https://localhost:8080/"
        },
        "id": "1XU6vFiRUMk5",
        "outputId": "340ab68f-9981-4a85-f968-cf7d302f2a5b"
      },
      "execution_count": 36,
      "outputs": [
        {
          "output_type": "stream",
          "name": "stdout",
          "text": [
            "Тренировочный сет:    label    qid  feature_1  feature_2  feature_3  feature_4  feature_5  \\\n",
            "0      0  10002   0.007477        0.0        1.0        0.0   0.007470   \n",
            "1      0  10002   0.603738        0.0        1.0        0.0   0.603175   \n",
            "2      0  10002   0.214953        0.0        0.0        0.0   0.213819   \n",
            "3      0  10002   0.000000        0.0        1.0        0.0   0.000000   \n",
            "4      0  10002   1.000000        1.0        0.0        0.0   1.000000   \n",
            "\n",
            "   feature_6  feature_7  feature_8  ...  feature_37  feature_38  feature_39  \\\n",
            "0        0.0        0.0        0.0  ...    0.797056    0.697327    0.721953   \n",
            "1        0.0        0.0        0.0  ...    0.000000    0.000000    0.117399   \n",
            "2        0.0        0.0        0.0  ...    0.566409    0.760916    0.746370   \n",
            "3        0.0        0.0        0.0  ...    0.320586    0.133604    0.000000   \n",
            "4        0.0        0.0        0.0  ...    0.341228    0.292567    0.385569   \n",
            "\n",
            "   feature_40  feature_41  feature_42  feature_43  feature_44  feature_45  \\\n",
            "0    0.582568        0.00        0.00         0.0    0.000000    0.000000   \n",
            "1    0.560607        0.00        0.28         0.0    0.003708    0.333333   \n",
            "2    1.000000        0.00        0.00         0.0    1.000000    1.000000   \n",
            "3    0.000000        0.25        1.00         0.0    0.000000    0.000000   \n",
            "4    0.730347        1.00        0.84         0.0    0.184564    0.666667   \n",
            "\n",
            "   feature_46  \n",
            "0    0.007042  \n",
            "1    1.000000  \n",
            "2    0.021127  \n",
            "3    0.000000  \n",
            "4    0.000000  \n",
            "\n",
            "[5 rows x 48 columns]\n",
            "Размер: (9630, 48)\n",
            "Валидационный сет:    label    qid  feature_1  feature_2  feature_3  feature_4  feature_5  \\\n",
            "0      0  15928   1.000000        0.0        0.0        0.0   1.000000   \n",
            "1      0  15928   0.003315        0.0        1.0        0.0   0.005525   \n",
            "2      1  15928   0.093923        0.0        0.0        0.0   0.093923   \n",
            "3      1  15928   0.065193        0.0        0.0        0.0   0.065193   \n",
            "4      0  15928   0.064088        0.0        0.0        0.0   0.064088   \n",
            "\n",
            "   feature_6  feature_7  feature_8  ...  feature_37  feature_38  feature_39  \\\n",
            "0        0.0        0.0        0.0  ...    0.464795    0.770455    0.953383   \n",
            "1        0.0        0.0        0.0  ...    0.547185    0.602954    0.334044   \n",
            "2        0.0        0.0        0.0  ...    0.644989    0.777431    0.887408   \n",
            "3        0.0        0.0        0.0  ...    0.960456    1.000000    1.000000   \n",
            "4        0.0        0.0        0.0  ...    0.870716    0.825926    0.939000   \n",
            "\n",
            "   feature_40  feature_41  feature_42  feature_43  feature_44  feature_45  \\\n",
            "0    0.711831        0.50    0.290698         0.0    0.197431        0.50   \n",
            "1    0.313640        0.50    0.255814         0.0    0.212859        0.25   \n",
            "2    0.760799        0.25    0.127907         0.0    0.309468        1.00   \n",
            "3    1.000000        0.25    0.069767         0.0    0.178784        0.50   \n",
            "4    0.784191        0.50    0.255814         0.0    0.012703        0.25   \n",
            "\n",
            "   feature_46  \n",
            "0    0.000000  \n",
            "1    0.214286  \n",
            "2    0.357143  \n",
            "3    0.428571  \n",
            "4    0.214286  \n",
            "\n",
            "[5 rows x 48 columns]\n",
            "Размер: (2707, 48)\n",
            "Тестовый сет:    label    qid  feature_1  feature_2  feature_3  feature_4  feature_5  \\\n",
            "0      0  18219   0.052893       1.00       0.75        1.0   0.066225   \n",
            "1      0  18219   0.004959       0.00       0.25        0.5   0.006623   \n",
            "2      0  18219   0.066116       0.75       0.25        1.0   0.074503   \n",
            "3      1  18219   0.026446       0.75       0.75        0.5   0.036424   \n",
            "4      0  18219   0.029752       0.00       1.00        1.0   0.038079   \n",
            "\n",
            "   feature_6  feature_7  feature_8  ...  feature_37  feature_38  feature_39  \\\n",
            "0        0.0        0.0        0.0  ...    1.000000    1.000000    0.998377   \n",
            "1        0.0        0.0        0.0  ...    0.141223    0.212802    0.168053   \n",
            "2        0.0        0.0        0.0  ...    0.986045    0.963141    1.000000   \n",
            "3        0.0        0.0        0.0  ...    0.843365    0.727569    0.786101   \n",
            "4        0.0        0.0        0.0  ...    0.858094    0.761605    0.818017   \n",
            "\n",
            "   feature_40  feature_41  feature_42  feature_43  feature_44  feature_45  \\\n",
            "0    1.000000    0.333333    0.434783         0.0    0.396910    0.447368   \n",
            "1    0.069556    0.333333    0.000000         0.0    0.019255    0.421053   \n",
            "2    0.962716    0.666667    0.826087         0.0    0.045177    0.473684   \n",
            "3    0.725966    0.000000    0.608696         0.0    1.000000    1.000000   \n",
            "4    0.759069    0.333333    0.956522         0.0    0.013295    0.052632   \n",
            "\n",
            "   feature_46  \n",
            "0    0.966667  \n",
            "1    0.000000  \n",
            "2    1.000000  \n",
            "3    0.266667  \n",
            "4    0.100000  \n",
            "\n",
            "[5 rows x 48 columns]\n",
            "Размер: (2874, 48)\n"
          ]
        }
      ]
    },
    {
      "cell_type": "markdown",
      "source": [
        "##EDA\n"
      ],
      "metadata": {
        "id": "jrWq56GNd3M3"
      }
    },
    {
      "cell_type": "code",
      "source": [
        "train_df['label'].value_counts()"
      ],
      "metadata": {
        "colab": {
          "base_uri": "https://localhost:8080/",
          "height": 209
        },
        "id": "ahyWIfrJfdCp",
        "outputId": "78c6ffc7-ac28-41a3-c2d5-87584e0b7c9e"
      },
      "execution_count": 37,
      "outputs": [
        {
          "output_type": "execute_result",
          "data": {
            "text/plain": [
              "label\n",
              "0    7820\n",
              "1    1223\n",
              "2     587\n",
              "Name: count, dtype: int64"
            ],
            "text/html": [
              "<div>\n",
              "<style scoped>\n",
              "    .dataframe tbody tr th:only-of-type {\n",
              "        vertical-align: middle;\n",
              "    }\n",
              "\n",
              "    .dataframe tbody tr th {\n",
              "        vertical-align: top;\n",
              "    }\n",
              "\n",
              "    .dataframe thead th {\n",
              "        text-align: right;\n",
              "    }\n",
              "</style>\n",
              "<table border=\"1\" class=\"dataframe\">\n",
              "  <thead>\n",
              "    <tr style=\"text-align: right;\">\n",
              "      <th></th>\n",
              "      <th>count</th>\n",
              "    </tr>\n",
              "    <tr>\n",
              "      <th>label</th>\n",
              "      <th></th>\n",
              "    </tr>\n",
              "  </thead>\n",
              "  <tbody>\n",
              "    <tr>\n",
              "      <th>0</th>\n",
              "      <td>7820</td>\n",
              "    </tr>\n",
              "    <tr>\n",
              "      <th>1</th>\n",
              "      <td>1223</td>\n",
              "    </tr>\n",
              "    <tr>\n",
              "      <th>2</th>\n",
              "      <td>587</td>\n",
              "    </tr>\n",
              "  </tbody>\n",
              "</table>\n",
              "</div><br><label><b>dtype:</b> int64</label>"
            ]
          },
          "metadata": {},
          "execution_count": 37
        }
      ]
    },
    {
      "cell_type": "code",
      "source": [
        "vali_df['label'].value_counts()"
      ],
      "metadata": {
        "colab": {
          "base_uri": "https://localhost:8080/",
          "height": 209
        },
        "id": "n0_yOoWzfkD1",
        "outputId": "62b81d10-501c-42af-8888-c6d49f6c402e"
      },
      "execution_count": 38,
      "outputs": [
        {
          "output_type": "execute_result",
          "data": {
            "text/plain": [
              "label\n",
              "0    2140\n",
              "1     400\n",
              "2     167\n",
              "Name: count, dtype: int64"
            ],
            "text/html": [
              "<div>\n",
              "<style scoped>\n",
              "    .dataframe tbody tr th:only-of-type {\n",
              "        vertical-align: middle;\n",
              "    }\n",
              "\n",
              "    .dataframe tbody tr th {\n",
              "        vertical-align: top;\n",
              "    }\n",
              "\n",
              "    .dataframe thead th {\n",
              "        text-align: right;\n",
              "    }\n",
              "</style>\n",
              "<table border=\"1\" class=\"dataframe\">\n",
              "  <thead>\n",
              "    <tr style=\"text-align: right;\">\n",
              "      <th></th>\n",
              "      <th>count</th>\n",
              "    </tr>\n",
              "    <tr>\n",
              "      <th>label</th>\n",
              "      <th></th>\n",
              "    </tr>\n",
              "  </thead>\n",
              "  <tbody>\n",
              "    <tr>\n",
              "      <th>0</th>\n",
              "      <td>2140</td>\n",
              "    </tr>\n",
              "    <tr>\n",
              "      <th>1</th>\n",
              "      <td>400</td>\n",
              "    </tr>\n",
              "    <tr>\n",
              "      <th>2</th>\n",
              "      <td>167</td>\n",
              "    </tr>\n",
              "  </tbody>\n",
              "</table>\n",
              "</div><br><label><b>dtype:</b> int64</label>"
            ]
          },
          "metadata": {},
          "execution_count": 38
        }
      ]
    },
    {
      "cell_type": "code",
      "source": [
        "test_df['label'].value_counts()"
      ],
      "metadata": {
        "colab": {
          "base_uri": "https://localhost:8080/",
          "height": 209
        },
        "id": "thv3YczXfigo",
        "outputId": "33bd7c4f-db37-4f52-8f00-2fda15e94b67"
      },
      "execution_count": 39,
      "outputs": [
        {
          "output_type": "execute_result",
          "data": {
            "text/plain": [
              "label\n",
              "0    2319\n",
              "1     378\n",
              "2     177\n",
              "Name: count, dtype: int64"
            ],
            "text/html": [
              "<div>\n",
              "<style scoped>\n",
              "    .dataframe tbody tr th:only-of-type {\n",
              "        vertical-align: middle;\n",
              "    }\n",
              "\n",
              "    .dataframe tbody tr th {\n",
              "        vertical-align: top;\n",
              "    }\n",
              "\n",
              "    .dataframe thead th {\n",
              "        text-align: right;\n",
              "    }\n",
              "</style>\n",
              "<table border=\"1\" class=\"dataframe\">\n",
              "  <thead>\n",
              "    <tr style=\"text-align: right;\">\n",
              "      <th></th>\n",
              "      <th>count</th>\n",
              "    </tr>\n",
              "    <tr>\n",
              "      <th>label</th>\n",
              "      <th></th>\n",
              "    </tr>\n",
              "  </thead>\n",
              "  <tbody>\n",
              "    <tr>\n",
              "      <th>0</th>\n",
              "      <td>2319</td>\n",
              "    </tr>\n",
              "    <tr>\n",
              "      <th>1</th>\n",
              "      <td>378</td>\n",
              "    </tr>\n",
              "    <tr>\n",
              "      <th>2</th>\n",
              "      <td>177</td>\n",
              "    </tr>\n",
              "  </tbody>\n",
              "</table>\n",
              "</div><br><label><b>dtype:</b> int64</label>"
            ]
          },
          "metadata": {},
          "execution_count": 39
        }
      ]
    },
    {
      "cell_type": "markdown",
      "source": [
        "Наблюдается дисбаланс классов - класс 0 преобладает над остальными. Логично для специфики задачи - для конкретного запроса во всем интернете найдется больше нерелевантных документов, чем релевантных"
      ],
      "metadata": {
        "id": "SOQ_PEMnipTa"
      }
    },
    {
      "cell_type": "code",
      "source": [
        "train_label_stats = train_df.groupby('qid')['label'].agg(['max']).value_counts()\n",
        "train_label_stats"
      ],
      "metadata": {
        "colab": {
          "base_uri": "https://localhost:8080/",
          "height": 209
        },
        "id": "xfS5YJXuf3SQ",
        "outputId": "1a0ff7fe-99bb-4e5d-fafc-6bc4d37b4bbb"
      },
      "execution_count": 40,
      "outputs": [
        {
          "output_type": "execute_result",
          "data": {
            "text/plain": [
              "max\n",
              "2      200\n",
              "1      139\n",
              "0      132\n",
              "Name: count, dtype: int64"
            ],
            "text/html": [
              "<div>\n",
              "<style scoped>\n",
              "    .dataframe tbody tr th:only-of-type {\n",
              "        vertical-align: middle;\n",
              "    }\n",
              "\n",
              "    .dataframe tbody tr th {\n",
              "        vertical-align: top;\n",
              "    }\n",
              "\n",
              "    .dataframe thead th {\n",
              "        text-align: right;\n",
              "    }\n",
              "</style>\n",
              "<table border=\"1\" class=\"dataframe\">\n",
              "  <thead>\n",
              "    <tr style=\"text-align: right;\">\n",
              "      <th></th>\n",
              "      <th>count</th>\n",
              "    </tr>\n",
              "    <tr>\n",
              "      <th>max</th>\n",
              "      <th></th>\n",
              "    </tr>\n",
              "  </thead>\n",
              "  <tbody>\n",
              "    <tr>\n",
              "      <th>2</th>\n",
              "      <td>200</td>\n",
              "    </tr>\n",
              "    <tr>\n",
              "      <th>1</th>\n",
              "      <td>139</td>\n",
              "    </tr>\n",
              "    <tr>\n",
              "      <th>0</th>\n",
              "      <td>132</td>\n",
              "    </tr>\n",
              "  </tbody>\n",
              "</table>\n",
              "</div><br><label><b>dtype:</b> int64</label>"
            ]
          },
          "metadata": {},
          "execution_count": 40
        }
      ]
    },
    {
      "cell_type": "code",
      "source": [
        "vali_label_stats = vali_df.groupby('qid')['label'].agg(['size', 'max']).describe()\n",
        "vali_label_stats"
      ],
      "metadata": {
        "colab": {
          "base_uri": "https://localhost:8080/",
          "height": 300
        },
        "id": "mRBVUZn-gBE7",
        "outputId": "b39d37fc-f8df-4a6a-d297-0f514e556676"
      },
      "execution_count": 41,
      "outputs": [
        {
          "output_type": "execute_result",
          "data": {
            "text/plain": [
              "             size         max\n",
              "count  157.000000  157.000000\n",
              "mean    17.242038    1.197452\n",
              "std     17.278414    0.796140\n",
              "min      6.000000    0.000000\n",
              "25%      8.000000    1.000000\n",
              "50%      8.000000    1.000000\n",
              "75%     16.000000    2.000000\n",
              "max    118.000000    2.000000"
            ],
            "text/html": [
              "\n",
              "  <div id=\"df-30391949-fda3-4bba-a480-d806e3d80b2a\" class=\"colab-df-container\">\n",
              "    <div>\n",
              "<style scoped>\n",
              "    .dataframe tbody tr th:only-of-type {\n",
              "        vertical-align: middle;\n",
              "    }\n",
              "\n",
              "    .dataframe tbody tr th {\n",
              "        vertical-align: top;\n",
              "    }\n",
              "\n",
              "    .dataframe thead th {\n",
              "        text-align: right;\n",
              "    }\n",
              "</style>\n",
              "<table border=\"1\" class=\"dataframe\">\n",
              "  <thead>\n",
              "    <tr style=\"text-align: right;\">\n",
              "      <th></th>\n",
              "      <th>size</th>\n",
              "      <th>max</th>\n",
              "    </tr>\n",
              "  </thead>\n",
              "  <tbody>\n",
              "    <tr>\n",
              "      <th>count</th>\n",
              "      <td>157.000000</td>\n",
              "      <td>157.000000</td>\n",
              "    </tr>\n",
              "    <tr>\n",
              "      <th>mean</th>\n",
              "      <td>17.242038</td>\n",
              "      <td>1.197452</td>\n",
              "    </tr>\n",
              "    <tr>\n",
              "      <th>std</th>\n",
              "      <td>17.278414</td>\n",
              "      <td>0.796140</td>\n",
              "    </tr>\n",
              "    <tr>\n",
              "      <th>min</th>\n",
              "      <td>6.000000</td>\n",
              "      <td>0.000000</td>\n",
              "    </tr>\n",
              "    <tr>\n",
              "      <th>25%</th>\n",
              "      <td>8.000000</td>\n",
              "      <td>1.000000</td>\n",
              "    </tr>\n",
              "    <tr>\n",
              "      <th>50%</th>\n",
              "      <td>8.000000</td>\n",
              "      <td>1.000000</td>\n",
              "    </tr>\n",
              "    <tr>\n",
              "      <th>75%</th>\n",
              "      <td>16.000000</td>\n",
              "      <td>2.000000</td>\n",
              "    </tr>\n",
              "    <tr>\n",
              "      <th>max</th>\n",
              "      <td>118.000000</td>\n",
              "      <td>2.000000</td>\n",
              "    </tr>\n",
              "  </tbody>\n",
              "</table>\n",
              "</div>\n",
              "    <div class=\"colab-df-buttons\">\n",
              "\n",
              "  <div class=\"colab-df-container\">\n",
              "    <button class=\"colab-df-convert\" onclick=\"convertToInteractive('df-30391949-fda3-4bba-a480-d806e3d80b2a')\"\n",
              "            title=\"Convert this dataframe to an interactive table.\"\n",
              "            style=\"display:none;\">\n",
              "\n",
              "  <svg xmlns=\"http://www.w3.org/2000/svg\" height=\"24px\" viewBox=\"0 -960 960 960\">\n",
              "    <path d=\"M120-120v-720h720v720H120Zm60-500h600v-160H180v160Zm220 220h160v-160H400v160Zm0 220h160v-160H400v160ZM180-400h160v-160H180v160Zm440 0h160v-160H620v160ZM180-180h160v-160H180v160Zm440 0h160v-160H620v160Z\"/>\n",
              "  </svg>\n",
              "    </button>\n",
              "\n",
              "  <style>\n",
              "    .colab-df-container {\n",
              "      display:flex;\n",
              "      gap: 12px;\n",
              "    }\n",
              "\n",
              "    .colab-df-convert {\n",
              "      background-color: #E8F0FE;\n",
              "      border: none;\n",
              "      border-radius: 50%;\n",
              "      cursor: pointer;\n",
              "      display: none;\n",
              "      fill: #1967D2;\n",
              "      height: 32px;\n",
              "      padding: 0 0 0 0;\n",
              "      width: 32px;\n",
              "    }\n",
              "\n",
              "    .colab-df-convert:hover {\n",
              "      background-color: #E2EBFA;\n",
              "      box-shadow: 0px 1px 2px rgba(60, 64, 67, 0.3), 0px 1px 3px 1px rgba(60, 64, 67, 0.15);\n",
              "      fill: #174EA6;\n",
              "    }\n",
              "\n",
              "    .colab-df-buttons div {\n",
              "      margin-bottom: 4px;\n",
              "    }\n",
              "\n",
              "    [theme=dark] .colab-df-convert {\n",
              "      background-color: #3B4455;\n",
              "      fill: #D2E3FC;\n",
              "    }\n",
              "\n",
              "    [theme=dark] .colab-df-convert:hover {\n",
              "      background-color: #434B5C;\n",
              "      box-shadow: 0px 1px 3px 1px rgba(0, 0, 0, 0.15);\n",
              "      filter: drop-shadow(0px 1px 2px rgba(0, 0, 0, 0.3));\n",
              "      fill: #FFFFFF;\n",
              "    }\n",
              "  </style>\n",
              "\n",
              "    <script>\n",
              "      const buttonEl =\n",
              "        document.querySelector('#df-30391949-fda3-4bba-a480-d806e3d80b2a button.colab-df-convert');\n",
              "      buttonEl.style.display =\n",
              "        google.colab.kernel.accessAllowed ? 'block' : 'none';\n",
              "\n",
              "      async function convertToInteractive(key) {\n",
              "        const element = document.querySelector('#df-30391949-fda3-4bba-a480-d806e3d80b2a');\n",
              "        const dataTable =\n",
              "          await google.colab.kernel.invokeFunction('convertToInteractive',\n",
              "                                                    [key], {});\n",
              "        if (!dataTable) return;\n",
              "\n",
              "        const docLinkHtml = 'Like what you see? Visit the ' +\n",
              "          '<a target=\"_blank\" href=https://colab.research.google.com/notebooks/data_table.ipynb>data table notebook</a>'\n",
              "          + ' to learn more about interactive tables.';\n",
              "        element.innerHTML = '';\n",
              "        dataTable['output_type'] = 'display_data';\n",
              "        await google.colab.output.renderOutput(dataTable, element);\n",
              "        const docLink = document.createElement('div');\n",
              "        docLink.innerHTML = docLinkHtml;\n",
              "        element.appendChild(docLink);\n",
              "      }\n",
              "    </script>\n",
              "  </div>\n",
              "\n",
              "\n",
              "    <div id=\"df-9c156909-1b94-4918-a756-56430e66f134\">\n",
              "      <button class=\"colab-df-quickchart\" onclick=\"quickchart('df-9c156909-1b94-4918-a756-56430e66f134')\"\n",
              "                title=\"Suggest charts\"\n",
              "                style=\"display:none;\">\n",
              "\n",
              "<svg xmlns=\"http://www.w3.org/2000/svg\" height=\"24px\"viewBox=\"0 0 24 24\"\n",
              "     width=\"24px\">\n",
              "    <g>\n",
              "        <path d=\"M19 3H5c-1.1 0-2 .9-2 2v14c0 1.1.9 2 2 2h14c1.1 0 2-.9 2-2V5c0-1.1-.9-2-2-2zM9 17H7v-7h2v7zm4 0h-2V7h2v10zm4 0h-2v-4h2v4z\"/>\n",
              "    </g>\n",
              "</svg>\n",
              "      </button>\n",
              "\n",
              "<style>\n",
              "  .colab-df-quickchart {\n",
              "      --bg-color: #E8F0FE;\n",
              "      --fill-color: #1967D2;\n",
              "      --hover-bg-color: #E2EBFA;\n",
              "      --hover-fill-color: #174EA6;\n",
              "      --disabled-fill-color: #AAA;\n",
              "      --disabled-bg-color: #DDD;\n",
              "  }\n",
              "\n",
              "  [theme=dark] .colab-df-quickchart {\n",
              "      --bg-color: #3B4455;\n",
              "      --fill-color: #D2E3FC;\n",
              "      --hover-bg-color: #434B5C;\n",
              "      --hover-fill-color: #FFFFFF;\n",
              "      --disabled-bg-color: #3B4455;\n",
              "      --disabled-fill-color: #666;\n",
              "  }\n",
              "\n",
              "  .colab-df-quickchart {\n",
              "    background-color: var(--bg-color);\n",
              "    border: none;\n",
              "    border-radius: 50%;\n",
              "    cursor: pointer;\n",
              "    display: none;\n",
              "    fill: var(--fill-color);\n",
              "    height: 32px;\n",
              "    padding: 0;\n",
              "    width: 32px;\n",
              "  }\n",
              "\n",
              "  .colab-df-quickchart:hover {\n",
              "    background-color: var(--hover-bg-color);\n",
              "    box-shadow: 0 1px 2px rgba(60, 64, 67, 0.3), 0 1px 3px 1px rgba(60, 64, 67, 0.15);\n",
              "    fill: var(--button-hover-fill-color);\n",
              "  }\n",
              "\n",
              "  .colab-df-quickchart-complete:disabled,\n",
              "  .colab-df-quickchart-complete:disabled:hover {\n",
              "    background-color: var(--disabled-bg-color);\n",
              "    fill: var(--disabled-fill-color);\n",
              "    box-shadow: none;\n",
              "  }\n",
              "\n",
              "  .colab-df-spinner {\n",
              "    border: 2px solid var(--fill-color);\n",
              "    border-color: transparent;\n",
              "    border-bottom-color: var(--fill-color);\n",
              "    animation:\n",
              "      spin 1s steps(1) infinite;\n",
              "  }\n",
              "\n",
              "  @keyframes spin {\n",
              "    0% {\n",
              "      border-color: transparent;\n",
              "      border-bottom-color: var(--fill-color);\n",
              "      border-left-color: var(--fill-color);\n",
              "    }\n",
              "    20% {\n",
              "      border-color: transparent;\n",
              "      border-left-color: var(--fill-color);\n",
              "      border-top-color: var(--fill-color);\n",
              "    }\n",
              "    30% {\n",
              "      border-color: transparent;\n",
              "      border-left-color: var(--fill-color);\n",
              "      border-top-color: var(--fill-color);\n",
              "      border-right-color: var(--fill-color);\n",
              "    }\n",
              "    40% {\n",
              "      border-color: transparent;\n",
              "      border-right-color: var(--fill-color);\n",
              "      border-top-color: var(--fill-color);\n",
              "    }\n",
              "    60% {\n",
              "      border-color: transparent;\n",
              "      border-right-color: var(--fill-color);\n",
              "    }\n",
              "    80% {\n",
              "      border-color: transparent;\n",
              "      border-right-color: var(--fill-color);\n",
              "      border-bottom-color: var(--fill-color);\n",
              "    }\n",
              "    90% {\n",
              "      border-color: transparent;\n",
              "      border-bottom-color: var(--fill-color);\n",
              "    }\n",
              "  }\n",
              "</style>\n",
              "\n",
              "      <script>\n",
              "        async function quickchart(key) {\n",
              "          const quickchartButtonEl =\n",
              "            document.querySelector('#' + key + ' button');\n",
              "          quickchartButtonEl.disabled = true;  // To prevent multiple clicks.\n",
              "          quickchartButtonEl.classList.add('colab-df-spinner');\n",
              "          try {\n",
              "            const charts = await google.colab.kernel.invokeFunction(\n",
              "                'suggestCharts', [key], {});\n",
              "          } catch (error) {\n",
              "            console.error('Error during call to suggestCharts:', error);\n",
              "          }\n",
              "          quickchartButtonEl.classList.remove('colab-df-spinner');\n",
              "          quickchartButtonEl.classList.add('colab-df-quickchart-complete');\n",
              "        }\n",
              "        (() => {\n",
              "          let quickchartButtonEl =\n",
              "            document.querySelector('#df-9c156909-1b94-4918-a756-56430e66f134 button');\n",
              "          quickchartButtonEl.style.display =\n",
              "            google.colab.kernel.accessAllowed ? 'block' : 'none';\n",
              "        })();\n",
              "      </script>\n",
              "    </div>\n",
              "    </div>\n",
              "  </div>\n"
            ],
            "application/vnd.google.colaboratory.intrinsic+json": {
              "type": "dataframe",
              "variable_name": "vali_label_stats",
              "summary": "{\n  \"name\": \"vali_label_stats\",\n  \"rows\": 8,\n  \"fields\": [\n    {\n      \"column\": \"size\",\n      \"properties\": {\n        \"dtype\": \"number\",\n        \"std\": 59.15177012182221,\n        \"min\": 6.0,\n        \"max\": 157.0,\n        \"num_unique_values\": 7,\n        \"samples\": [\n          157.0,\n          17.24203821656051,\n          16.0\n        ],\n        \"semantic_type\": \"\",\n        \"description\": \"\"\n      }\n    },\n    {\n      \"column\": \"max\",\n      \"properties\": {\n        \"dtype\": \"number\",\n        \"std\": 55.107955127291305,\n        \"min\": 0.0,\n        \"max\": 157.0,\n        \"num_unique_values\": 6,\n        \"samples\": [\n          157.0,\n          1.197452229299363,\n          2.0\n        ],\n        \"semantic_type\": \"\",\n        \"description\": \"\"\n      }\n    }\n  ]\n}"
            }
          },
          "metadata": {},
          "execution_count": 41
        }
      ]
    },
    {
      "cell_type": "code",
      "source": [
        "test_label_stats = test_df.groupby('qid')['label'].agg(['max']).value_counts()\n",
        "test_label_stats"
      ],
      "metadata": {
        "colab": {
          "base_uri": "https://localhost:8080/",
          "height": 209
        },
        "id": "EulhXlA0gA2Z",
        "outputId": "e05002fe-85d7-4ecc-fd0c-acdb65a7d366"
      },
      "execution_count": 42,
      "outputs": [
        {
          "output_type": "execute_result",
          "data": {
            "text/plain": [
              "max\n",
              "2      63\n",
              "0      51\n",
              "1      42\n",
              "Name: count, dtype: int64"
            ],
            "text/html": [
              "<div>\n",
              "<style scoped>\n",
              "    .dataframe tbody tr th:only-of-type {\n",
              "        vertical-align: middle;\n",
              "    }\n",
              "\n",
              "    .dataframe tbody tr th {\n",
              "        vertical-align: top;\n",
              "    }\n",
              "\n",
              "    .dataframe thead th {\n",
              "        text-align: right;\n",
              "    }\n",
              "</style>\n",
              "<table border=\"1\" class=\"dataframe\">\n",
              "  <thead>\n",
              "    <tr style=\"text-align: right;\">\n",
              "      <th></th>\n",
              "      <th>count</th>\n",
              "    </tr>\n",
              "    <tr>\n",
              "      <th>max</th>\n",
              "      <th></th>\n",
              "    </tr>\n",
              "  </thead>\n",
              "  <tbody>\n",
              "    <tr>\n",
              "      <th>2</th>\n",
              "      <td>63</td>\n",
              "    </tr>\n",
              "    <tr>\n",
              "      <th>0</th>\n",
              "      <td>51</td>\n",
              "    </tr>\n",
              "    <tr>\n",
              "      <th>1</th>\n",
              "      <td>42</td>\n",
              "    </tr>\n",
              "  </tbody>\n",
              "</table>\n",
              "</div><br><label><b>dtype:</b> int64</label>"
            ]
          },
          "metadata": {},
          "execution_count": 42
        }
      ]
    },
    {
      "cell_type": "markdown",
      "source": [
        "Можно увидеть, что для некотрых запросов отсутсвуют релевантные документы и в таком случае, задача ранжирования для них неактуальна, однако не стоит удалять эти запросы из наших данных так, как в релаьном мире пользователи также могут оставлять некорректные запросы и наша цель - сформировать хоть какую-то выдачу. Также если мы удалим такие запросы, то поднимем итоговые метрики, однако они будут неактуальны потому, что, как я и сказал раньше, при использовании могут приходить \"плохие данные\", с которыми му не будем знать, что делать.\n",
        "\n",
        "\n",
        "Также по анализу валидационной выборки можно увидеть разброс в количестве документов для разных запросов (от 6 до 118). Это может негативно сказаться на обучении, ведь тогда модель будет уделять внимание наибольшим группам и не уловить зависимости для маленьких. Для минимизации этой проблемы предлагается мониторить качество не только в целом, но и по подвыборкам разного размера.\n"
      ],
      "metadata": {
        "id": "J5Eno36ymXLk"
      }
    },
    {
      "cell_type": "markdown",
      "source": [
        "#Обучение"
      ],
      "metadata": {
        "id": "tRd6Jn0CiiXe"
      }
    },
    {
      "cell_type": "code",
      "source": [
        "group_train = train_df.sort_values(by=\"qid\").groupby(\"qid\").size().tolist()\n",
        "group_vali = vali_df.sort_values(by=\"qid\").groupby(\"qid\").size().tolist()\n",
        "group_test = test_df.sort_values(by=\"qid\").groupby(\"qid\").size().tolist()"
      ],
      "metadata": {
        "id": "FU89C9bBihsb"
      },
      "execution_count": 43,
      "outputs": []
    },
    {
      "cell_type": "code",
      "source": [
        "x_train = train_df.drop(['label', 'qid'], axis=1)\n",
        "y_train = train_df['label']\n",
        "x_vali = vali_df.drop(['label', 'qid'], axis=1)\n",
        "y_vali = vali_df['label']"
      ],
      "metadata": {
        "id": "1I6iVHPUnwTM"
      },
      "execution_count": 45,
      "outputs": []
    },
    {
      "cell_type": "code",
      "source": [
        "train_data = Dataset(x_train, label=y_train, group=group_train)\n",
        "vali_data = Dataset(x_vali, label=y_vali, group=group_vali, reference=train_data)"
      ],
      "metadata": {
        "id": "4V-0M3JN6nZt"
      },
      "execution_count": 49,
      "outputs": []
    },
    {
      "cell_type": "code",
      "source": [
        "params = {\n",
        "    'objective': 'lambdarank',\n",
        "    'metric': 'ndcg',\n",
        "    'eval_at': [5, 10],\n",
        "    'learning_rate': 0.05,\n",
        "    'verbose': 1,\n",
        "    'num_iterations': 500,\n",
        "    'early_stopping_rounds': 50\n",
        "}\n",
        "\n",
        "model = train(params,\n",
        "                  train_data,\n",
        "                  valid_sets=[vali_data],\n",
        "                  valid_names=['vali'])"
      ],
      "metadata": {
        "colab": {
          "base_uri": "https://localhost:8080/"
        },
        "id": "zQcxH6mW9dlb",
        "outputId": "2292f59a-e0f1-4cc8-eb0c-46682c95311c"
      },
      "execution_count": 59,
      "outputs": [
        {
          "output_type": "stream",
          "name": "stdout",
          "text": [
            "[LightGBM] [Info] Auto-choosing row-wise multi-threading, the overhead of testing was 0.002788 seconds.\n",
            "You can set `force_row_wise=true` to remove the overhead.\n",
            "And if memory is not enough, you can set `force_col_wise=true`.\n",
            "[LightGBM] [Info] Total Bins 9233\n",
            "[LightGBM] [Info] Number of data points in the train set: 9630, number of used features: 40\n",
            "Training until validation scores don't improve for 50 rounds\n",
            "Early stopping, best iteration is:\n",
            "[16]\tvali's ndcg@5: 0.747068\tvali's ndcg@10: 0.793359\n"
          ]
        }
      ]
    }
  ]
}